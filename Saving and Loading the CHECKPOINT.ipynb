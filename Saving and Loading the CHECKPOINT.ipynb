{
 "cells": [
  {
   "cell_type": "markdown",
   "id": "frozen-puppy",
   "metadata": {},
   "source": [
    "## Save the checkpoint\n",
    "\n",
    "Now that your network is trained, save the model so you can load it later for making predictions. You probably want to save other things such as the mapping of classes to indices which you get from one of the image datasets: `image_datasets['train'].class_to_idx`. You can attach this to the model as an attribute which makes inference easier later on.\n",
    "\n",
    "```model.class_to_idx = image_datasets['train'].class_to_idx```\n",
    "\n",
    "Remember that you'll want to completely rebuild the model later so you can use it for inference. Make sure to include any information you need in the checkpoint. If you want to load the model and keep training, you'll want to save the number of epochs as well as the optimizer state, `optimizer.state_dict`. You'll likely want to use this trained model in the next part of the project, so best to save it now."
   ]
  },
  {
   "cell_type": "code",
   "execution_count": null,
   "id": "capable-maintenance",
   "metadata": {},
   "outputs": [],
   "source": [
    "# TODO: Save the checkpoint \n",
    "import fc_model \n",
    "print(\"Our model: \\n\\n\", model, '\\n')\n",
    "print(\"The state dict keys: \\n\\n\", model.state_dict().keys())\n",
    "\n",
    "#doing the below operation appears to save us huge headache in the future\n",
    "# it saves a 'mapping of classes' to 'indices' that we get from one of the datasets\n",
    "# it seems recommended to use the training set itself\n",
    "#luckily the data is available as a generator as well\n",
    "model.class_to_idx = image_datasets['training'].class_to_idx\n",
    "\n",
    "#EXISTING MODEL IS GOOD. WANT TO SAVE. MAKE SURE THIS WILL SAVE MY WORK THUS FAR CORRECTLY BEFORE SAVING\n",
    "# torch.save(model.state_dict(), 'sam_checkpoint.pth')\n",
    "sam_checkpoint = {'input_size': 25088,\n",
    "             'output_size':102,\n",
    "             'epochs':20,\n",
    "             'learning_rate': 0.001,\n",
    "             'class_to_idx': model.class_to_idx,\n",
    "             'hidden_layers':[each.out_features for each in model.hidden_layers],\n",
    "             'state_dict': model.state_dict()}\n",
    "torch.save(sam_checkpoint, 'sam_checkpoint.pth')"
   ]
  },
  {
   "cell_type": "markdown",
   "id": "different-execution",
   "metadata": {},
   "source": [
    "## Loading the checkpoint\n",
    "\n",
    "At this point it's good to write a function that can load a checkpoint and rebuild the model. That way you can come back to this project and keep working on it without having to retrain the network."
   ]
  },
  {
   "cell_type": "code",
   "execution_count": null,
   "id": "finished-point",
   "metadata": {},
   "outputs": [],
   "source": [
    "# TODO: Write a function that loads a checkpoint and rebuilds the model\n",
    "def load_checkpoint(path):\n",
    "    checkpoint = torch.load(path)\n",
    "    model = fc_model.Network(checkpoint['input_size'],\n",
    "                             checkpoint['output_size'],\n",
    "                             checkpoint['epochs'],\n",
    "                             checkpoint['learning_rate'],\n",
    "                             checkpoint['class_to_idx'],\n",
    "                             checkpoint['hidden_layers'],\n",
    "                             checkpoint['state_dict'])\n",
    "    model.load_state_dict(checkpoint['state_dict'])\n",
    "    return model\n",
    "# to rebuild the same model as the one we trained on\n",
    "# using this fuction \n",
    "# do this\n",
    "# model = load_checkpoint('sam_checkpoint.pth')\n",
    "# print(model)"
   ]
  }
 ],
 "metadata": {
  "kernelspec": {
   "display_name": "Python [conda env:root] *",
   "language": "python",
   "name": "conda-root-py"
  },
  "language_info": {
   "codemirror_mode": {
    "name": "ipython",
    "version": 3
   },
   "file_extension": ".py",
   "mimetype": "text/x-python",
   "name": "python",
   "nbconvert_exporter": "python",
   "pygments_lexer": "ipython3",
   "version": "3.8.5"
  }
 },
 "nbformat": 4,
 "nbformat_minor": 5
}
